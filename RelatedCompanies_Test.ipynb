{
 "cells": [
  {
   "cell_type": "code",
   "execution_count": 1,
   "metadata": {
    "collapsed": false
   },
   "outputs": [
    {
     "name": "stdout",
     "output_type": "stream",
     "text": [
      "Enter the Company name: Capabiliti\n",
      "Filtering by investor:\n",
      "267         Trym\n",
      "3569    Hivebeat\n",
      "7651     CoinPip\n",
      "Name: Name, dtype: object\n",
      "\n",
      "Filtering by life stage:\n",
      "307         ByeO\n",
      "267         Trym\n",
      "3569    Hivebeat\n",
      "Name: Name, dtype: object\n",
      "\n",
      "Filtering by country:\n",
      "1814                GiftAssets\n",
      "3803                 Connaizen\n",
      "55      Datasigns Technologies\n",
      "Name: Name, dtype: object\n"
     ]
    }
   ],
   "source": [
    "# -*- coding: utf-8 -*-\n",
    "\"\"\"\n",
    "Created on Wed Jul 19 19:26:45 2017\n",
    "\n",
    "@author: admin\n",
    "\"\"\"\n",
    "\n",
    "import pandas as pd\n",
    "from difflib import SequenceMatcher\n",
    "import numpy as np\n",
    "\n",
    "#Function that computes the similarity ratio between two strings using Gestalt Pattern Matching algorithm\n",
    "def similar(a,b):\n",
    "    return SequenceMatcher(None,a,b).ratio()\n",
    "\n",
    "#Read in the dataframe.\n",
    "df = pd.read_csv('C:/Users/admin/findata.csv')  \n",
    "#Query the datframe to find the index of the inputted company.\n",
    "a = df.set_index('Name').index.get_loc(raw_input('Enter the Company name: ') )\n",
    "\n",
    "#Manipulate the data according to the required format.\n",
    "training = df.iloc[:,2:11].fillna(value='0')\n",
    "year = training[['Founding year']].astype(int).values\n",
    "country = training['Company country']\n",
    "training = training.drop(['Total funding','Number of employees','Founding year','Company country'],axis=1)\n",
    "\n",
    "#Initialize column names list and similarity index np array\n",
    "column_identifier = training.columns.tolist()\n",
    "similarity_index =  np.zeros(shape = (df.shape[0] ,len(column_identifier)))\n",
    "\n",
    "#Compute the base similarity index using only Tags, Company Description, Product Description and partners features\n",
    "for i in range(len(column_identifier)):\n",
    "    for j in range(df.shape[0]):\n",
    "        if training.loc[j,column_identifier[i]] == '0':\n",
    "            similarity_index[j,i] = 0\n",
    "        else :\n",
    "            similarity_index[j,i] = similar(training.loc[a,column_identifier[i]],training.loc[j,column_identifier[i]])\n",
    "[similarity_index[:,i]/max(similarity_index[:,i]) for i in range(len(column_identifier))]  \n",
    "similarity_index = np.array([sum(similarity_index[i,:]) for i in range(df.shape[0])])\n",
    "\n",
    "#Compute the similarity when investor feature is checked\n",
    "investor_index = []\n",
    "for j in range(df.shape[0]):\n",
    "    if training.loc[j,'Investors'] == '0':\n",
    "        investor_index.append(0)\n",
    "    else:\n",
    "        investor_index.append(similar(training.loc[a,'Investors'],training.loc[j,'Investors']))\n",
    "investor_index[j] = investor_index[j]/max(investor_index)\n",
    "investor_index = np.array([similarity_index[i]+investor_index[i] for i in range(df.shape[0])])\n",
    "buff2 = investor_index.argsort()[-4:][::-1]\n",
    "buff2 = np.delete(buff2,0)\n",
    "print 'Filtering by investor:\\n%s\\n'%(df.loc[buff2,'Name'])\n",
    "\n",
    "#Compute the similarity when lifestage feature is checked\n",
    "lifestage_index = []\n",
    "for j in range(df.shape[0]):\n",
    "    if abs(year[a]-year[j]) < 3:\n",
    "        lifestage_index.append(1)\n",
    "    else:\n",
    "        lifestage_index.append(0)  \n",
    "lifestage_index = np.array([similarity_index[i]+lifestage_index[i] for i in range(df.shape[0])]) \n",
    "buff3 = lifestage_index.argsort()[-4:][::-1]\n",
    "buff3 = np.delete(buff3,0)\n",
    "print 'Filtering by life stage:\\n%s\\n'%(df.loc[buff3,'Name'])\n",
    "\n",
    "#Compute the similarity when country feature is checked\n",
    "country_index = []\n",
    "for i in range(df.shape[0]):\n",
    "    if similar(country.loc[a],country.loc[i]) <= 0.5:\n",
    "        country_index.append(0)\n",
    "    else:\n",
    "        country_index.append(1)\n",
    "country_index = np.array([similarity_index[i]+country_index[i] for i in range(df.shape[0])])\n",
    "buff4 = country_index.argsort()[-4:][::-1]\n",
    "buff4 = np.delete(buff4,0)\n",
    "print 'Filtering by country:\\n%s'%(df.loc[buff4,'Name'])\n",
    "\n",
    "\n"
   ]
  },
  {
   "cell_type": "code",
   "execution_count": null,
   "metadata": {
    "collapsed": true
   },
   "outputs": [],
   "source": []
  }
 ],
 "metadata": {
  "kernelspec": {
   "display_name": "Python [default]",
   "language": "python",
   "name": "python2"
  },
  "language_info": {
   "codemirror_mode": {
    "name": "ipython",
    "version": 2
   },
   "file_extension": ".py",
   "mimetype": "text/x-python",
   "name": "python",
   "nbconvert_exporter": "python",
   "pygments_lexer": "ipython2",
   "version": "2.7.12"
  }
 },
 "nbformat": 4,
 "nbformat_minor": 1
}
